{
 "cells": [
  {
   "cell_type": "code",
   "execution_count": 1,
   "metadata": {},
   "outputs": [
    {
     "name": "stdout",
     "output_type": "stream",
     "text": [
      "number of grid in x :65, z:236, total:997100\n"
     ]
    }
   ],
   "source": [
    "\n",
    "from src.values import *\n",
    "from src.utils import *\n",
    "import numpy as np \n",
    "from scipy.spatial.distance import cdist\n",
    "from scipy.linalg import cholesky\n",
    "\n",
    "a_t_ = a_t*3\n",
    "N_t = np.floor(25*3/ a_t_).astype(np.int64)\n",
    "N_z = len(z_values) \n",
    "print(f'number of grid in x :{N_t}, z:{N_z}, total:{N_t**2*N_z}')\n"
   ]
  },
  {
   "cell_type": "code",
   "execution_count": null,
   "metadata": {},
   "outputs": [],
   "source": [
    "\n",
    "x = np.arange(N_t)* a_t_\n",
    "y = np.arange(N_t)* a_t_ \n",
    "X, Y = np.meshgrid(x, y)\n",
    "V_0000 = np.zeros((N_t, N_t, N_z))\n",
    "V_1000 = np.zeros((N_t, N_t, N_z))\n",
    "\n",
    "points = np.column_stack([X.ravel(), Y.ravel()]) # linearlized points \n",
    "\n",
    "exp_cov = cdist(points, points, 'sqeuclidean')\n",
    "exp_cov = np.exp(-exp_cov/4/l_t**2)\n",
    "\n",
    "c1 = lambda z: (E_G*a_t_)**2 * n(z)*(1-n(z))/(4*np.pi*l_t**2)* exp_cov\n"
   ]
  },
  {
   "cell_type": "code",
   "execution_count": 4,
   "metadata": {},
   "outputs": [],
   "source": [
    "\n",
    "for i,z in enumerate(z_values):\n",
    "    C_joint = c1(z)\n",
    "    mean = np.zeros(C_joint.shape[0])  # Zero mean\n",
    "    L = cholesky(C_joint + 1e-6 * np.eye(C_joint.shape[0]), lower=True)  # Cholesky decomposition    \n",
    "    random_samples = L @ np.random.randn(C_joint.shape[0])\n",
    "    \n",
    "    V_0000[:, :, i]+= random_samples.reshape(N_t, N_t)\n",
    "    V_1000[1:-1, :, i]+= l_t * (V_0000[2:, :, i] - V_0000[:-2, :, i])/a_t_\n"
   ]
  },
  {
   "cell_type": "code",
   "execution_count": null,
   "metadata": {},
   "outputs": [],
   "source": []
  },
  {
   "cell_type": "code",
   "execution_count": null,
   "metadata": {},
   "outputs": [],
   "source": []
  },
  {
   "cell_type": "code",
   "execution_count": null,
   "metadata": {},
   "outputs": [],
   "source": []
  },
  {
   "cell_type": "code",
   "execution_count": null,
   "metadata": {},
   "outputs": [],
   "source": []
  },
  {
   "cell_type": "code",
   "execution_count": null,
   "metadata": {},
   "outputs": [],
   "source": []
  },
  {
   "cell_type": "code",
   "execution_count": null,
   "metadata": {},
   "outputs": [],
   "source": []
  }
 ],
 "metadata": {
  "kernelspec": {
   "display_name": "TBDSi",
   "language": "python",
   "name": "python3"
  },
  "language_info": {
   "codemirror_mode": {
    "name": "ipython",
    "version": 3
   },
   "file_extension": ".py",
   "mimetype": "text/x-python",
   "name": "python",
   "nbconvert_exporter": "python",
   "pygments_lexer": "ipython3",
   "version": "3.7.16"
  }
 },
 "nbformat": 4,
 "nbformat_minor": 2
}
